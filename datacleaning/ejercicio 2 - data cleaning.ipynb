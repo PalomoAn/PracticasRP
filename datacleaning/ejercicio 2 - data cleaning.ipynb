{
 "cells": [
  {
   "cell_type": "code",
   "execution_count": 1,
   "metadata": {},
   "outputs": [
    {
     "data": {
      "text/html": [
       "<div>\n",
       "<style scoped>\n",
       "    .dataframe tbody tr th:only-of-type {\n",
       "        vertical-align: middle;\n",
       "    }\n",
       "\n",
       "    .dataframe tbody tr th {\n",
       "        vertical-align: top;\n",
       "    }\n",
       "\n",
       "    .dataframe thead th {\n",
       "        text-align: right;\n",
       "    }\n",
       "</style>\n",
       "<table border=\"1\" class=\"dataframe\">\n",
       "  <thead>\n",
       "    <tr style=\"text-align: right;\">\n",
       "      <th></th>\n",
       "      <th>Order ID</th>\n",
       "      <th>Category</th>\n",
       "      <th>Amount</th>\n",
       "    </tr>\n",
       "  </thead>\n",
       "  <tbody>\n",
       "    <tr>\n",
       "      <th>0</th>\n",
       "      <td>CA-2011-167199</td>\n",
       "      <td>Binders | Art | Phones | Fasteners | Paper</td>\n",
       "      <td>609.98 | 5.48 | 391.98 | 755.96 | 31.12</td>\n",
       "    </tr>\n",
       "    <tr>\n",
       "      <th>1</th>\n",
       "      <td>CA-2011-149020</td>\n",
       "      <td>Office Supplies | Furniture</td>\n",
       "      <td>2.98 | 51.94</td>\n",
       "    </tr>\n",
       "    <tr>\n",
       "      <th>2</th>\n",
       "      <td>CA-2011-131905</td>\n",
       "      <td>Office Supplies | Technology | Technology</td>\n",
       "      <td>7.2 | 42.0186 | 42.035</td>\n",
       "    </tr>\n",
       "    <tr>\n",
       "      <th>3</th>\n",
       "      <td>CA-2011-127614</td>\n",
       "      <td>Accessories | Tables | Binders</td>\n",
       "      <td>234.45 | 1256.22 | 17.46</td>\n",
       "    </tr>\n",
       "  </tbody>\n",
       "</table>\n",
       "</div>"
      ],
      "text/plain": [
       "         Order ID                                    Category  \\\n",
       "0  CA-2011-167199  Binders | Art | Phones | Fasteners | Paper   \n",
       "1  CA-2011-149020                 Office Supplies | Furniture   \n",
       "2  CA-2011-131905   Office Supplies | Technology | Technology   \n",
       "3  CA-2011-127614              Accessories | Tables | Binders   \n",
       "\n",
       "                                    Amount  \n",
       "0  609.98 | 5.48 | 391.98 | 755.96 | 31.12  \n",
       "1                             2.98 | 51.94  \n",
       "2                   7.2 | 42.0186 | 42.035  \n",
       "3                 234.45 | 1256.22 | 17.46  "
      ]
     },
     "execution_count": 1,
     "metadata": {},
     "output_type": "execute_result"
    }
   ],
   "source": [
    "import pandas as pd\n",
    "\n",
    "# Cargar los datos de las facturas desde un archivo Excel\n",
    "datos_facturas = pd.read_excel('https://foresightbi.com.ng/wp-content/uploads/2020/05/8.-Invoices-with-Merged-Categories-and-Merged-Amounts.xlsx')\n",
    "\n",
    "# Mostrar las primeras filas de los datos originales de las facturas\n",
    "datos_facturas.head()\n"
   ]
  },
  {
   "cell_type": "code",
   "execution_count": 2,
   "metadata": {},
   "outputs": [],
   "source": [
    "# Dividir las columnas 'Categoría' y 'Monto' por '|' y expandirlas en filas separadas\n",
    "categorias_expandidas = datos_facturas['Category'].str.split('|').explode()\n",
    "montos_expandidos = datos_facturas['Amount'].str.split('|').explode()\n",
    "\n",
    "# Crear un nuevo DataFrame con las categorías y montos expandidos\n",
    "datos_expandidos = pd.DataFrame({\n",
    "    'Categoría': categorias_expandidas,\n",
    "    'Monto': montos_expandidos\n",
    "})\n",
    "\n",
    "# Unir el 'ID de Pedido' del DataFrame original al nuevo DataFrame expandido\n",
    "datos_expandidos = datos_expandidos.join(datos_facturas['Order ID'])\n"
   ]
  },
  {
   "cell_type": "code",
   "execution_count": 3,
   "metadata": {},
   "outputs": [
    {
     "data": {
      "text/html": [
       "<div>\n",
       "<style scoped>\n",
       "    .dataframe tbody tr th:only-of-type {\n",
       "        vertical-align: middle;\n",
       "    }\n",
       "\n",
       "    .dataframe tbody tr th {\n",
       "        vertical-align: top;\n",
       "    }\n",
       "\n",
       "    .dataframe thead th {\n",
       "        text-align: right;\n",
       "    }\n",
       "</style>\n",
       "<table border=\"1\" class=\"dataframe\">\n",
       "  <thead>\n",
       "    <tr style=\"text-align: right;\">\n",
       "      <th></th>\n",
       "      <th>Order ID</th>\n",
       "      <th>Categoría</th>\n",
       "      <th>Monto</th>\n",
       "    </tr>\n",
       "  </thead>\n",
       "  <tbody>\n",
       "    <tr>\n",
       "      <th>0</th>\n",
       "      <td>CA-2011-167199</td>\n",
       "      <td>Binders</td>\n",
       "      <td>609.98</td>\n",
       "    </tr>\n",
       "    <tr>\n",
       "      <th>1</th>\n",
       "      <td>CA-2011-167199</td>\n",
       "      <td>Art</td>\n",
       "      <td>5.48</td>\n",
       "    </tr>\n",
       "    <tr>\n",
       "      <th>2</th>\n",
       "      <td>CA-2011-167199</td>\n",
       "      <td>Phones</td>\n",
       "      <td>391.98</td>\n",
       "    </tr>\n",
       "    <tr>\n",
       "      <th>3</th>\n",
       "      <td>CA-2011-167199</td>\n",
       "      <td>Fasteners</td>\n",
       "      <td>755.96</td>\n",
       "    </tr>\n",
       "    <tr>\n",
       "      <th>4</th>\n",
       "      <td>CA-2011-167199</td>\n",
       "      <td>Paper</td>\n",
       "      <td>31.12</td>\n",
       "    </tr>\n",
       "  </tbody>\n",
       "</table>\n",
       "</div>"
      ],
      "text/plain": [
       "         Order ID    Categoría     Monto\n",
       "0  CA-2011-167199     Binders    609.98 \n",
       "1  CA-2011-167199         Art      5.48 \n",
       "2  CA-2011-167199      Phones    391.98 \n",
       "3  CA-2011-167199   Fasteners    755.96 \n",
       "4  CA-2011-167199        Paper     31.12"
      ]
     },
     "execution_count": 3,
     "metadata": {},
     "output_type": "execute_result"
    }
   ],
   "source": [
    "# Reorganizar las columnas y restablecer el índice\n",
    "datos_finales = datos_expandidos.loc[:, ['Order ID', 'Categoría', 'Monto']].reset_index(drop=True)\n",
    "\n",
    "# Mostrar las primeras filas de los datos estructurados finales\n",
    "datos_finales.head()\n"
   ]
  },
  {
   "cell_type": "code",
   "execution_count": null,
   "metadata": {},
   "outputs": [],
   "source": []
  }
 ],
 "metadata": {
  "kernelspec": {
   "display_name": "Python 3 (ipykernel)",
   "language": "python",
   "name": "python3"
  },
  "language_info": {
   "codemirror_mode": {
    "name": "ipython",
    "version": 3
   },
   "file_extension": ".py",
   "mimetype": "text/x-python",
   "name": "python",
   "nbconvert_exporter": "python",
   "pygments_lexer": "ipython3",
   "version": "3.12.5"
  }
 },
 "nbformat": 4,
 "nbformat_minor": 4
}
